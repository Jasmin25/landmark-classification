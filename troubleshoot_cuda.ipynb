{
 "cells": [
  {
   "cell_type": "code",
   "execution_count": 2,
   "metadata": {},
   "outputs": [],
   "source": [
    "import torch\n",
    "import gc\n",
    "\n",
    "# Clean up GPU memory\n",
    "def clean_memory():\n",
    "    gc.collect()\n",
    "    torch.cuda.empty_cache()\n",
    "\n",
    "# Usage:\n",
    "clean_memory()\n"
   ]
  },
  {
   "cell_type": "code",
   "execution_count": 3,
   "metadata": {},
   "outputs": [
    {
     "name": "stdout",
     "output_type": "stream",
     "text": [
      "Device: cuda\n",
      "Total Memory: 11441.19 MiB\n",
      "Allocated Memory: 0.00 MiB\n",
      "Reserved Memory: 0.00 MiB\n",
      "Available Memory: 11441.19 MiB\n"
     ]
    }
   ],
   "source": [
    "def get_gpu_memory_usage():\n",
    "    device = torch.device(\"cuda\" if torch.cuda.is_available() else \"cpu\")\n",
    "    if device.type == 'cuda':\n",
    "        free_memory = torch.cuda.memory_allocated(device)\n",
    "        total_memory = torch.cuda.get_device_properties(device).total_memory\n",
    "        reserved_memory = torch.cuda.memory_reserved(device)\n",
    "        available_memory = total_memory - reserved_memory\n",
    "\n",
    "        print(f\"Device: {device}\")\n",
    "        print(f\"Total Memory: {total_memory / (1024 ** 2):.2f} MiB\")\n",
    "        print(f\"Allocated Memory: {free_memory / (1024 ** 2):.2f} MiB\")\n",
    "        print(f\"Reserved Memory: {reserved_memory / (1024 ** 2):.2f} MiB\")\n",
    "        print(f\"Available Memory: {available_memory / (1024 ** 2):.2f} MiB\")\n",
    "    else:\n",
    "        print(\"CUDA is not available on this device.\")\n",
    "\n",
    "# Usage:\n",
    "get_gpu_memory_usage()\n"
   ]
  },
  {
   "cell_type": "code",
   "execution_count": null,
   "metadata": {},
   "outputs": [],
   "source": []
  }
 ],
 "metadata": {
  "kernelspec": {
   "display_name": "Python 3",
   "language": "python",
   "name": "python3"
  },
  "language_info": {
   "codemirror_mode": {
    "name": "ipython",
    "version": 3
   },
   "file_extension": ".py",
   "mimetype": "text/x-python",
   "name": "python",
   "nbconvert_exporter": "python",
   "pygments_lexer": "ipython3",
   "version": "3.7.6"
  }
 },
 "nbformat": 4,
 "nbformat_minor": 4
}
